{
  "cells": [
    {
      "cell_type": "code",
      "execution_count": null,
      "metadata": {
        "colab": {
          "base_uri": "https://localhost:8080/"
        },
        "id": "R8vDpvEGt1X6",
        "outputId": "a0da50e5-69a3-4663-e8d2-7c7705348dce"
      },
      "outputs": [],
      "source": [
        "!git clone https://github.com/houyushan/llama2_deepspeed_TCM.git"
      ]
    },
    {
      "cell_type": "code",
      "execution_count": 9,
      "metadata": {
        "colab": {
          "base_uri": "https://localhost:8080/"
        },
        "id": "Scfikuvd6_Vz",
        "outputId": "064774df-d724-43f8-fdd2-196cd9a1df8c"
      },
      "outputs": [
        {
          "name": "stdout",
          "output_type": "stream",
          "text": [
            "Drive already mounted at /content/drive/; to attempt to forcibly remount, call drive.mount(\"/content/drive/\", force_remount=True).\n"
          ]
        }
      ],
      "source": [
        "from google.colab import drive\n",
        "drive.mount('/content/drive/')"
      ]
    },
    {
      "cell_type": "code",
      "execution_count": null,
      "metadata": {
        "colab": {
          "base_uri": "https://localhost:8080/"
        },
        "collapsed": true,
        "id": "TT2DeLXPBP8r",
        "outputId": "e38a18c8-f9c9-41d3-b916-caeaf350e669"
      },
      "outputs": [],
      "source": [
        "!pip install deepspeed datasets\n"
      ]
    },
    {
      "cell_type": "code",
      "execution_count": null,
      "metadata": {
        "colab": {
          "base_uri": "https://localhost:8080/"
        },
        "id": "N5max-xhDea5",
        "outputId": "7a73693a-2680-4740-8b86-79981c91e043"
      },
      "outputs": [],
      "source": [
        "from google.colab import drive\n",
        "drive.mount('/content/drive/')\n",
        "\n",
        "import os\n",
        "path=\"/content/drive/MyDrive/llama2_deepspeed_TCM/training/step1_supervised_finetuning/\"\n",
        "os.chdir(path)\n",
        "os.listdir(path)\n",
        "\n",
        "#!deepspeed main.py --data_path \"local/jsonfile\" --data_split 2,4,4 --model_name_or_path hfl/chinese-alpaca-2-1.3b --per_device_train_batch_size 2 --per_device_eval_batch_size 2 --max_seq_len 64 --learning_rate 9.65e-6 --weight_decay 0. --num_train_epochs 2 --gradient_accumulation_steps 1 --lr_scheduler_type cosine --num_warmup_steps 0 --seed 1234 --gradient_checkpointing --zero_stage 3 --offload --deepspeed --output_dir /content/drive/MyDrive/llama2_deepspeed_TCM/training/step1_supervised_finetuning/llama2_train_deepspeed/ --data_output_path /content/drive/MyDrive/llama2_deepspeed_TCM/training/step1_supervised_finetuning/llama2_data_outputdir/\n",
        "\n",
        "!deepspeed main.py --data_path \"local/jsonfile\" --data_split 2,4,4 --model_name_or_path hfl/chinese-alpaca-2-1.3b --per_device_train_batch_size 2 --per_device_eval_batch_size 2 --max_seq_len 64 --learning_rate 9.65e-6 --weight_decay 0. --num_train_epochs 2 --gradient_accumulation_steps 1 --lr_scheduler_type cosine --num_warmup_steps 0 --seed 1234 --gradient_checkpointing --zero_stage 3 --deepspeed --output_dir /content/drive/MyDrive/llama2_deepspeed_TCM/training/step1_supervised_finetuning/llama2_train_deepspeed/ --data_output_path /content/drive/MyDrive/llama2_deepspeed_TCM/training/step1_supervised_finetuning/llama2_data_outputdir/"
      ]
    }
  ],
  "metadata": {
    "accelerator": "TPU",
    "colab": {
      "gpuType": "V28",
      "provenance": []
    },
    "kernelspec": {
      "display_name": "Python 3",
      "name": "python3"
    },
    "language_info": {
      "name": "python"
    }
  },
  "nbformat": 4,
  "nbformat_minor": 0
}
